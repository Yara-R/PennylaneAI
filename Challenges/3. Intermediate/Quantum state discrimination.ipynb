{
 "cells": [
  {
   "cell_type": "markdown",
   "metadata": {},
   "source": [
    "Quantum state discrimination"
   ]
  },
  {
   "cell_type": "code",
   "execution_count": 1,
   "metadata": {},
   "outputs": [],
   "source": [
    "import json\n",
    "import pennylane as qml\n",
    "import pennylane.numpy as np"
   ]
  },
  {
   "cell_type": "code",
   "execution_count": 2,
   "metadata": {},
   "outputs": [],
   "source": [
    "def maximal_probability(theta_1, theta_2, p_1, p_2):\n",
    "\n",
    "    \"\"\"\n",
    "    This function calculates the maximal probability of distinguishing\n",
    "    the states\n",
    "\n",
    "    Args:\n",
    "        theta_1 (float): Angle parametrizing the state |phi_1>.\n",
    "        theta_2 (float): Angle parametrizing the state |phi_2>.\n",
    "        p_1 (float): Probability that the state was |phi_1>.\n",
    "        p_2 (float): Probability that the state was |phi_2>.\n",
    "\n",
    "    Returns:\n",
    "        (Union[float, np.tensor]): Maximal probability of distinguishing the states.\n",
    "    \n",
    "    \"\"\"\n",
    "\n",
    "    phi_1 = np.array([np.cos(theta_1), np.sin(theta_1)])\n",
    "    phi_2 = np.array([np.cos(theta_2), np.sin(theta_2)])\n",
    "\n",
    "    # Density matrix\n",
    "    rho = p_1 * np.outer(phi_1, phi_1) + p_2 * np.outer(phi_2, phi_2)\n",
    "\n",
    "    # Eigenvalue decomposition\n",
    "    eigenvalues, eigenvectors = np.linalg.eigh(rho)\n",
    "\n",
    "    # Index of the largest eigenvalue\n",
    "    max_eigenvalue_index = np.argmax(eigenvalues)\n",
    "\n",
    "    # Corresponding eigenvector\n",
    "    max_eigenvector = eigenvectors[:, max_eigenvalue_index]\n",
    "\n",
    "    # Calculate success probability\n",
    "    success_probability = p_1 * np.abs(np.dot(max_eigenvector, phi_1))**2 + \\\n",
    "                          p_2 * np.abs(np.dot(max_eigenvector, phi_2))**2\n",
    "\n",
    "    return success_probability"
   ]
  },
  {
   "cell_type": "code",
   "execution_count": 3,
   "metadata": {},
   "outputs": [
    {
     "name": "stdout",
     "output_type": "stream",
     "text": [
      "Running test case 0 with input '[0, 0.7853981633974483, 0.25, 0.75]'...\n",
      "Correct!\n",
      "Running test case 1 with input '[1.83259571459, 1.88495559215, 0.5, 0.5]'...\n"
     ]
    },
    {
     "ename": "AssertionError",
     "evalue": "",
     "output_type": "error",
     "traceback": [
      "\u001b[0;31m---------------------------------------------------------------------------\u001b[0m",
      "\u001b[0;31mAssertionError\u001b[0m                            Traceback (most recent call last)",
      "\u001b[1;32m/Users/yarafaran/Documents/QML /Challenges/challenge13.ipynb Célula 4\u001b[0m line \u001b[0;36m3\n\u001b[1;32m     <a href='vscode-notebook-cell:/Users/yarafaran/Documents/QML%20/Challenges/challenge13.ipynb#W2sZmlsZQ%3D%3D?line=30'>31</a>\u001b[0m     \u001b[39mprint\u001b[39m(\u001b[39mf\u001b[39m\u001b[39m\"\u001b[39m\u001b[39mRuntime Error. \u001b[39m\u001b[39m{\u001b[39;00mexc\u001b[39m}\u001b[39;00m\u001b[39m\"\u001b[39m)\n\u001b[1;32m     <a href='vscode-notebook-cell:/Users/yarafaran/Documents/QML%20/Challenges/challenge13.ipynb#W2sZmlsZQ%3D%3D?line=32'>33</a>\u001b[0m \u001b[39melse\u001b[39;00m:\n\u001b[0;32m---> <a href='vscode-notebook-cell:/Users/yarafaran/Documents/QML%20/Challenges/challenge13.ipynb#W2sZmlsZQ%3D%3D?line=33'>34</a>\u001b[0m     \u001b[39mif\u001b[39;00m message \u001b[39m:=\u001b[39m check(output, expected_output):\n\u001b[1;32m     <a href='vscode-notebook-cell:/Users/yarafaran/Documents/QML%20/Challenges/challenge13.ipynb#W2sZmlsZQ%3D%3D?line=34'>35</a>\u001b[0m         \u001b[39mprint\u001b[39m(\u001b[39mf\u001b[39m\u001b[39m\"\u001b[39m\u001b[39mWrong Answer. Have: \u001b[39m\u001b[39m'\u001b[39m\u001b[39m{\u001b[39;00moutput\u001b[39m}\u001b[39;00m\u001b[39m'\u001b[39m\u001b[39m. Want: \u001b[39m\u001b[39m'\u001b[39m\u001b[39m{\u001b[39;00mexpected_output\u001b[39m}\u001b[39;00m\u001b[39m'\u001b[39m\u001b[39m.\u001b[39m\u001b[39m\"\u001b[39m)\n\u001b[1;32m     <a href='vscode-notebook-cell:/Users/yarafaran/Documents/QML%20/Challenges/challenge13.ipynb#W2sZmlsZQ%3D%3D?line=36'>37</a>\u001b[0m     \u001b[39melse\u001b[39;00m:\n",
      "\u001b[1;32m/Users/yarafaran/Documents/QML /Challenges/challenge13.ipynb Célula 4\u001b[0m line \u001b[0;36m1\n\u001b[1;32m     <a href='vscode-notebook-cell:/Users/yarafaran/Documents/QML%20/Challenges/challenge13.ipynb#W2sZmlsZQ%3D%3D?line=11'>12</a>\u001b[0m solution_output \u001b[39m=\u001b[39m json\u001b[39m.\u001b[39mloads(solution_output)\n\u001b[1;32m     <a href='vscode-notebook-cell:/Users/yarafaran/Documents/QML%20/Challenges/challenge13.ipynb#W2sZmlsZQ%3D%3D?line=12'>13</a>\u001b[0m expected_output \u001b[39m=\u001b[39m json\u001b[39m.\u001b[39mloads(expected_output)\n\u001b[0;32m---> <a href='vscode-notebook-cell:/Users/yarafaran/Documents/QML%20/Challenges/challenge13.ipynb#W2sZmlsZQ%3D%3D?line=14'>15</a>\u001b[0m \u001b[39massert\u001b[39;00m np\u001b[39m.\u001b[39mallclose(solution_output, expected_output, rtol\u001b[39m=\u001b[39m\u001b[39m1e-4\u001b[39m)\n",
      "\u001b[0;31mAssertionError\u001b[0m: "
     ]
    }
   ],
   "source": [
    "# These functions are responsible for testing the solution.\n",
    "\n",
    "\n",
    "def run(test_case_input: str) -> str:\n",
    "    theta1, theta2, p_1, p_2 = json.loads(test_case_input)\n",
    "    prob = np.array(maximal_probability(theta1, theta2, p_1, p_2)).numpy()\n",
    "\n",
    "    return str(prob)\n",
    "\n",
    "\n",
    "def check(solution_output: str, expected_output: str) -> None:\n",
    "    solution_output = json.loads(solution_output)\n",
    "    expected_output = json.loads(expected_output)\n",
    "\n",
    "    assert np.allclose(solution_output, expected_output, rtol=1e-4)\n",
    "\n",
    "# These are the public test cases\n",
    "test_cases = [\n",
    "    ('[0, 0.7853981633974483, 0.25, 0.75]', '0.8952847075210476'),\n",
    "    ('[1.83259571459, 1.88495559215, 0.5, 0.5]', '0.52616798')\n",
    "]\n",
    "\n",
    "# This will run the public test cases locally\n",
    "for i, (input_, expected_output) in enumerate(test_cases):\n",
    "    print(f\"Running test case {i} with input '{input_}'...\")\n",
    "\n",
    "    try:\n",
    "        output = run(input_)\n",
    "\n",
    "    except Exception as exc:\n",
    "        print(f\"Runtime Error. {exc}\")\n",
    "\n",
    "    else:\n",
    "        if message := check(output, expected_output):\n",
    "            print(f\"Wrong Answer. Have: '{output}'. Want: '{expected_output}'.\")\n",
    "\n",
    "        else:\n",
    "            print(\"Correct!\")"
   ]
  }
 ],
 "metadata": {
  "kernelspec": {
   "display_name": "Python 3",
   "language": "python",
   "name": "python3"
  },
  "language_info": {
   "codemirror_mode": {
    "name": "ipython",
    "version": 3
   },
   "file_extension": ".py",
   "mimetype": "text/x-python",
   "name": "python",
   "nbconvert_exporter": "python",
   "pygments_lexer": "ipython3",
   "version": "3.12.0"
  }
 },
 "nbformat": 4,
 "nbformat_minor": 2
}
