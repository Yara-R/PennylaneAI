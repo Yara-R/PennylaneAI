{
 "cells": [
  {
   "cell_type": "markdown",
   "metadata": {},
   "source": [
    "Recoherence"
   ]
  },
  {
   "cell_type": "code",
   "execution_count": 21,
   "metadata": {},
   "outputs": [],
   "source": [
    "import json\n",
    "import pennylane as qml\n",
    "import pennylane.numpy as np"
   ]
  },
  {
   "cell_type": "code",
   "execution_count": 22,
   "metadata": {},
   "outputs": [],
   "source": [
    "dev = qml.device(\"default.qubit\", wires=5)\n",
    "\n",
    "\n",
    "@qml.qnode(dev)\n",
    "def evolve_state(coeffs, time):\n",
    "    \"\"\"\n",
    "    Args:\n",
    "        coeffs (list(float)): A list of the coupling constants g_1, g_2, g_3, and g_4\n",
    "        time (float): The evolution time of th system under the given Hamiltonian\n",
    "\n",
    "    Returns:\n",
    "        (numpy.tensor): The density matrix for the evolved state of the central spin.\n",
    "    \"\"\"\n",
    "\n",
    "    # We build the Hamiltonian for you\n",
    "\n",
    "    operators = [\n",
    "        qml.PauliZ(0) @ qml.PauliZ(1),\n",
    "        qml.PauliZ(0) @ qml.PauliZ(2),\n",
    "        qml.PauliZ(0) @ qml.PauliZ(3),\n",
    "        qml.PauliZ(0) @ qml.PauliZ(4),\n",
    "    ]\n",
    "    hamiltonian = qml.Dot(coeffs, operators)\n",
    "\n",
    "    # Apply the time evolution\n",
    "    qml.Exp(hamiltonian * time)\n",
    "\n",
    "    # Return the density matrix\n",
    "    return qml.density_matrix(wires=0)"
   ]
  },
  {
   "cell_type": "code",
   "execution_count": 23,
   "metadata": {},
   "outputs": [],
   "source": [
    "def purity(rho):\n",
    "    \"\"\"\n",
    "    Args:\n",
    "        rho (array(array(complex))): An array-like object representing a density matrix\n",
    "\n",
    "    Returns:\n",
    "        (float): The purity of the density matrix rho\n",
    "\n",
    "    \"\"\"\n",
    "\n",
    "    return np.trace(np.dot(rho, rho)).real"
   ]
  },
  {
   "cell_type": "code",
   "execution_count": 24,
   "metadata": {},
   "outputs": [],
   "source": [
    "def recoherence_time(coeffs):\n",
    "    \"\"\"\n",
    "    Args:\n",
    "        coeffs (list(float)): A list of the coupling constants g_1, g_2, g_3, and g_4.\n",
    "\n",
    "    Returns:\n",
    "        (float): The recoherence time of the central spin.\n",
    "\n",
    "    \"\"\"\n",
    "\n",
    "    # Initial state parameters\n",
    "    alpha_values = [np.pi / 2, 0.4, 1.2, 1.8, 0.6]\n",
    "\n",
    "    # Calculate the initial density matrix\n",
    "    initial_state = np.zeros((2, 2), dtype=np.complex128)\n",
    "    for i, alpha in enumerate(alpha_values):\n",
    "        state_i = np.array([np.cos(alpha / 2), np.sin(alpha / 2)], dtype=np.complex128)\n",
    "        initial_state += np.outer(state_i, state_i.conj())\n",
    "\n",
    "    # Set the initial state of the central spin\n",
    "    dev.reset()\n",
    "    dev._state = np.kron(initial_state, np.eye(2 ** 4))  # Set the initial state for the central spin\n",
    "\n",
    "    # Set a small time step to search for the recoherence time\n",
    "    dt = 0.01\n",
    "    current_time = 0.0\n",
    "\n",
    "    # Evolve the state and check the purity at each time step\n",
    "    while True:\n",
    "        state = evolve_state(coeffs, current_time)\n",
    "        current_purity = purity(state)\n",
    "        if np.isclose(current_purity, 1.0, rtol=5e-2):\n",
    "            return current_time\n",
    "        current_time += dt"
   ]
  },
  {
   "cell_type": "code",
   "execution_count": 25,
   "metadata": {},
   "outputs": [
    {
     "name": "stdout",
     "output_type": "stream",
     "text": [
      "Running test case 0 with input '[5,5,5,5]'...\n",
      "Runtime Error. 'DefaultQubit' object has no attribute 'reset'\n",
      "Running test case 1 with input '[1.1,1.3,1,2.3]'...\n",
      "Runtime Error. 'DefaultQubit' object has no attribute 'reset'\n"
     ]
    }
   ],
   "source": [
    "# These functions are responsible for testing the solution.\n",
    "def run(test_case_input: str) -> str:\n",
    "    params = json.loads(test_case_input)\n",
    "    output = recoherence_time(params)\n",
    "\n",
    "    return str(output)\n",
    "\n",
    "\n",
    "def check(solution_output: str, expected_output: str) -> None:\n",
    "    solution_output = json.loads(solution_output)\n",
    "    expected_output = json.loads(expected_output)\n",
    "\n",
    "    assert np.isclose(solution_output, expected_output, rtol=5e-2)\n",
    "\n",
    "# These are the public test cases\n",
    "test_cases = [\n",
    "    ('[5,5,5,5]', '0.314'),\n",
    "    ('[1.1,1.3,1,2.3]', '15.71')\n",
    "]\n",
    "\n",
    "# This will run the public test cases locally\n",
    "for i, (input_, expected_output) in enumerate(test_cases):\n",
    "    print(f\"Running test case {i} with input '{input_}'...\")\n",
    "\n",
    "    try:\n",
    "        output = run(input_)\n",
    "\n",
    "    except Exception as exc:\n",
    "        print(f\"Runtime Error. {exc}\")\n",
    "\n",
    "    else:\n",
    "        if message := check(output, expected_output):\n",
    "            print(f\"Wrong Answer. Have: '{output}'. Want: '{expected_output}'.\")\n",
    "\n",
    "        else:\n",
    "            print(\"Correct!\")"
   ]
  }
 ],
 "metadata": {
  "kernelspec": {
   "display_name": "Python 3",
   "language": "python",
   "name": "python3"
  },
  "language_info": {
   "codemirror_mode": {
    "name": "ipython",
    "version": 3
   },
   "file_extension": ".py",
   "mimetype": "text/x-python",
   "name": "python",
   "nbconvert_exporter": "python",
   "pygments_lexer": "ipython3",
   "version": "3.12.0"
  }
 },
 "nbformat": 4,
 "nbformat_minor": 2
}
