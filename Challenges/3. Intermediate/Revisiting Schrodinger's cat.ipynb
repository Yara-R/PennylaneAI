{
 "cells": [
  {
   "cell_type": "markdown",
   "metadata": {},
   "source": [
    "Revisiting Schrodinger's cat"
   ]
  },
  {
   "cell_type": "code",
   "execution_count": 9,
   "metadata": {},
   "outputs": [],
   "source": [
    "import json\n",
    "import pennylane as qml\n",
    "import pennylane.numpy as np"
   ]
  },
  {
   "cell_type": "code",
   "execution_count": 10,
   "metadata": {},
   "outputs": [],
   "source": [
    "dev = qml.device('default.qubit', wires = ['atom', 'cat'])\n",
    "\n",
    "@qml.qnode(dev)\n",
    "def evolve_atom_cat(unitary, params):\n",
    "    \"\"\"\n",
    "    Circuit that implements the evolution of the atom-cat system under the action of a unitary\n",
    "    and the change of basis in the atom wire before measuring.\n",
    "    \n",
    "    Args:\n",
    "        unitary (np.array(complex)): The matrix of a 4x4 unitary operator.\n",
    "        params (list(float)): A list of three angles corresponding to the parameters\n",
    "        of the U3 gate\n",
    "\n",
    "    Returns:\n",
    "        (np.tensor): The state of the joint atom-cat system after unitary evolution.\n",
    "    \"\"\"\n",
    "\n",
    "    qml.QubitUnitary(unitary, wires=[0, 1])\n",
    "    qml.U3(params[0], params[1], params[2], wires='atom')  # Use 'atom' instead of 0\n",
    "    return qml.state()"
   ]
  },
  {
   "cell_type": "code",
   "execution_count": 11,
   "metadata": {},
   "outputs": [],
   "source": [
    "def u3_parameters(unitary):\n",
    "\n",
    "    \"\"\"\n",
    "    Find adequate parameters that yield a uniform position on the cat wire\n",
    "    when the atom wire is measured to be |0>.\n",
    "    \n",
    "    Args:\n",
    "        unitary (np.array(complex)): The matrix of a 4x4 unitary operator.\n",
    "\n",
    "    Returns:\n",
    "        (np.array(float)): The parameters for the U3 change of basis that yield\n",
    "        a uniform superposition for the cat when the atom is measured in the\n",
    "        state |0>.\n",
    "    \"\"\"\n",
    "\n",
    "\n",
    "    # Define a cost function to be minimized\n",
    "    def cost(params):\n",
    "        state = evolve_atom_cat(unitary, params)\n",
    "        prob_0 = np.abs(state[0])**2  # Probability of measuring |0⟩A\n",
    "        prob_plus = np.abs(state[1] + state[2])**2  # Probability of measuring |+⟩C\n",
    "\n",
    "        # We want to minimize the difference between prob_0 and prob_plus\n",
    "        return np.abs(prob_0 - prob_plus)\n",
    "\n",
    "    # Optimize the cost function to find parameters that satisfy the condition\n",
    "    opt = qml.optimize.GradientDescentOptimizer(0.01)\n",
    "    params = np.array([0.0, 0.0, 0.0], requires_grad=True)\n",
    "\n",
    "    steps = 100\n",
    "    for _ in range(steps):\n",
    "        params = opt.step(cost, params)\n",
    "\n",
    "    return params\n",
    "    "
   ]
  },
  {
   "cell_type": "code",
   "execution_count": 12,
   "metadata": {},
   "outputs": [
    {
     "name": "stdout",
     "output_type": "stream",
     "text": [
      "Running test case 0 with input '[[ 0.70710678,  0 ,  0.70710678,  0], [0 ,0.70710678, 0, 0.70710678], [ 0,  0.70710678,  0, -0.70710678], [ 0.70710678,  0, -0.70710678,  0]]'...\n",
      "Runtime Error. Cannot run circuit(s) on default.qubit as they contain wires not found on the device: {0, 1}\n",
      "Running test case 1 with input '[[-0.00202114,  0.99211964, -0.05149589, -0.11420469], [-0.13637119, -0.1236727 , -0.30532593, -0.93428263], [0.89775373,  0.00794205, -0.363445  ,  0.24876274], [ 0.41885207, -0.01845563, -0.8786535 ,  0.22845207]]'...\n",
      "Runtime Error. Cannot run circuit(s) on default.qubit as they contain wires not found on the device: {0, 1}\n"
     ]
    }
   ],
   "source": [
    "# These functions are responsible for testing the solution.\n",
    "def run(test_case_input: str) -> str:\n",
    "\n",
    "    ins = json.loads(test_case_input)\n",
    "    output = u3_parameters(ins).tolist()\n",
    "    \n",
    "    if np.isclose(evolve_atom_cat(ins,output)[0], evolve_atom_cat(ins,output)[1], atol = 5e-2):\n",
    "        \n",
    "        return \"Cat state generated\"\n",
    "   \n",
    "    return \"Cat state not generated\"\n",
    "\n",
    "def check(solution_output: str, expected_output: str) -> None:\n",
    "    \n",
    "    def unitary_circ():\n",
    "        qml.Hadamard(wires=0)\n",
    "        qml.CNOT(wires=[0,1])\n",
    "    \n",
    "    U1 = qml.matrix(unitary_circ)()\n",
    "\n",
    "    assert np.isclose(evolve_atom_cat(U1,[1,1,1])[0], 0.62054458), \"Your evolve_atom_cat circuit does not do what is expected.\"\n",
    "    assert solution_output == expected_output, \"Your parameters do not generate a Schrodinger cat\"\n",
    "\n",
    "# These are the public test cases\n",
    "test_cases = [\n",
    "    ('[[ 0.70710678,  0 ,  0.70710678,  0], [0 ,0.70710678, 0, 0.70710678], [ 0,  0.70710678,  0, -0.70710678], [ 0.70710678,  0, -0.70710678,  0]]', 'Cat state generated'),\n",
    "    ('[[-0.00202114,  0.99211964, -0.05149589, -0.11420469], [-0.13637119, -0.1236727 , -0.30532593, -0.93428263], [0.89775373,  0.00794205, -0.363445  ,  0.24876274], [ 0.41885207, -0.01845563, -0.8786535 ,  0.22845207]]', 'Cat state generated')\n",
    "]\n",
    "\n",
    "# This will run the public test cases locally\n",
    "for i, (input_, expected_output) in enumerate(test_cases):\n",
    "    print(f\"Running test case {i} with input '{input_}'...\")\n",
    "\n",
    "    try:\n",
    "        output = run(input_)\n",
    "\n",
    "    except Exception as exc:\n",
    "        print(f\"Runtime Error. {exc}\")\n",
    "\n",
    "    else:\n",
    "        if message := check(output, expected_output):\n",
    "            print(f\"Wrong Answer. Have: '{output}'. Want: '{expected_output}'.\")\n",
    "\n",
    "        else:\n",
    "            print(\"Correct!\")"
   ]
  }
 ],
 "metadata": {
  "kernelspec": {
   "display_name": "venv",
   "language": "python",
   "name": "python3"
  },
  "language_info": {
   "codemirror_mode": {
    "name": "ipython",
    "version": 3
   },
   "file_extension": ".py",
   "mimetype": "text/x-python",
   "name": "python",
   "nbconvert_exporter": "python",
   "pygments_lexer": "ipython3",
   "version": "3.12.0"
  }
 },
 "nbformat": 4,
 "nbformat_minor": 2
}
