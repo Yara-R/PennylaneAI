{
 "cells": [
  {
   "cell_type": "markdown",
   "metadata": {},
   "source": [
    "The oracle of the exact distance"
   ]
  },
  {
   "cell_type": "code",
   "execution_count": 6,
   "metadata": {},
   "outputs": [],
   "source": [
    "import json\n",
    "import pennylane as qml\n",
    "import pennylane.numpy as np"
   ]
  },
  {
   "cell_type": "code",
   "execution_count": 7,
   "metadata": {},
   "outputs": [],
   "source": [
    "wires_m = [0, 1, 2]  # qubits needed to encode m\n",
    "wires_n = [3, 4, 5]  # qubits needed to encode n\n",
    "wires_aux = [6, 7, 8, 9, 10]  # auxiliary qubits you can use"
   ]
  },
  {
   "cell_type": "code",
   "execution_count": 8,
   "metadata": {},
   "outputs": [],
   "source": [
    "def controlled_Z_gate(wires):\n",
    "    qml.CZ(wires=wires)\n"
   ]
  },
  {
   "cell_type": "code",
   "execution_count": 9,
   "metadata": {},
   "outputs": [],
   "source": [
    "def oracle_distance(d):\n",
    "    \"\"\"\n",
    "    Args:\n",
    "        d (int): the distance with which we will check that the oracle is working properly.\n",
    "\n",
    "    This function does not return anything, it is a quantum function that applies\n",
    "    necessary gates that implement the requested oracle.\n",
    "\n",
    "    \"\"\"\n",
    "\n",
    "\n",
    "    # Encode m and n into auxiliary qubits\n",
    "    qml.CNOT(wires=[0, 6])\n",
    "    qml.CNOT(wires=[1, 7])\n",
    "    qml.CNOT(wires=[2, 8])\n",
    "    qml.CNOT(wires=[3, 9])\n",
    "    qml.CNOT(wires=[4, 10])\n",
    "    \n",
    "    # Check the distance between m and n\n",
    "    qml.CNOT(wires=[6, 7])\n",
    "    qml.CNOT(wires=[7, 8])\n",
    "    qml.CNOT(wires=[8, 9])\n",
    "    qml.CNOT(wires=[9, 10])\n",
    "    qml.CNOT(wires=[10, 6])\n",
    "    \n",
    "    # Apply phase flip if distance equals d\n",
    "    qml.Toffoli(wires=[6, 7, 11])\n",
    "    qml.Toffoli(wires=[7, 8, 11])\n",
    "    qml.Toffoli(wires=[8, 9, 11])\n",
    "    qml.Toffoli(wires=[9, 10, 11])\n",
    "    qml.Toffoli(wires=[10, 6, 11])\n",
    "    \n",
    "    qml.PauliX(wires=11).controlled(wires=[6, 7, 8, 9, 10])\n",
    "    \n",
    "    # Reverse the encoding of m and n\n",
    "    qml.CNOT(wires=[4, 10])\n",
    "    qml.CNOT(wires=[3, 9])\n",
    "    qml.CNOT(wires=[2, 8])\n",
    "    qml.CNOT(wires=[1, 7])\n",
    "    qml.CNOT(wires=[0, 6])"
   ]
  },
  {
   "cell_type": "code",
   "execution_count": 10,
   "metadata": {},
   "outputs": [
    {
     "name": "stdout",
     "output_type": "stream",
     "text": [
      "Running test case 0 with input '0'...\n",
      "Runtime Error. 'PauliX' object has no attribute 'controlled'\n",
      "Running test case 1 with input '1'...\n",
      "Runtime Error. 'PauliX' object has no attribute 'controlled'\n",
      "Running test case 2 with input '2'...\n",
      "Runtime Error. 'PauliX' object has no attribute 'controlled'\n",
      "Running test case 3 with input '3'...\n",
      "Runtime Error. 'PauliX' object has no attribute 'controlled'\n",
      "Running test case 4 with input '4'...\n",
      "Runtime Error. 'PauliX' object has no attribute 'controlled'\n",
      "Running test case 5 with input '5'...\n",
      "Runtime Error. 'PauliX' object has no attribute 'controlled'\n",
      "Running test case 6 with input '6'...\n",
      "Runtime Error. 'PauliX' object has no attribute 'controlled'\n",
      "Running test case 7 with input '7'...\n",
      "Runtime Error. 'PauliX' object has no attribute 'controlled'\n"
     ]
    }
   ],
   "source": [
    "# These functions are responsible for testing the solution.\n",
    "wires_m = [0, 1, 2]\n",
    "wires_n = [3, 4, 5]\n",
    "wires_aux = [6, 7, 8, 9, 10]\n",
    "\n",
    "dev = qml.device(\"default.qubit.legacy\", wires=11)\n",
    "\n",
    "\n",
    "@qml.qnode(dev)\n",
    "def circuit(m, n, d):\n",
    "    qml.BasisEmbedding(m, wires=wires_m)\n",
    "    qml.BasisEmbedding(n, wires=wires_n)\n",
    "    oracle_distance(d)\n",
    "    return qml.state()\n",
    "\n",
    "\n",
    "def run(test_case_input: str) -> str:\n",
    "    outputs = []\n",
    "    d = int(json.loads(test_case_input))\n",
    "    for n in range(8):\n",
    "        for m in range(8):\n",
    "            outputs.append(sum(circuit(n, m, d)).real)\n",
    "    output_list = [round(elem.numpy()) for elem in outputs]\n",
    "    return str(output_list)\n",
    "\n",
    "\n",
    "def check(solution_output: str, expected_output: str) -> None:\n",
    "    i = 0\n",
    "    solution_output = json.loads(solution_output)\n",
    "    expected_output = json.loads(expected_output)\n",
    "\n",
    "    assert np.allclose(solution_output, expected_output)\n",
    "\n",
    "    circuit(np.random.randint(7), np.random.randint(7), np.random.randint(7))\n",
    "    tape = circuit.qtape\n",
    "\n",
    "    names = [op.name for op in tape.operations]\n",
    "\n",
    "    assert names.count(\"QubitUnitary\") == 0, \"Can't use custom-built gates!\"\n",
    "\n",
    "# These are the public test cases\n",
    "test_cases = [\n",
    "    ('0', '[-1, 1, 1, 1, 1, 1, 1, 1, 1, -1, 1, 1, 1, 1, 1, 1, 1, 1, -1, 1, 1, 1, 1, 1, 1, 1, 1, -1, 1, 1, 1, 1, 1, 1, 1, 1, -1, 1, 1, 1, 1, 1, 1, 1, 1, -1, 1, 1, 1, 1, 1, 1, 1, 1, -1, 1, 1, 1, 1, 1, 1, 1, 1, -1]'),\n",
    "    ('1', '[1, -1, 1, 1, 1, 1, 1, 1, -1, 1, -1, 1, 1, 1, 1, 1, 1, -1, 1, -1, 1, 1, 1, 1, 1, 1, -1, 1, -1, 1, 1, 1, 1, 1, 1, -1, 1, -1, 1, 1, 1, 1, 1, 1, -1, 1, -1, 1, 1, 1, 1, 1, 1, -1, 1, -1, 1, 1, 1, 1, 1, 1, -1, 1]'),\n",
    "    ('2', '[1, 1, -1, 1, 1, 1, 1, 1, 1, 1, 1, -1, 1, 1, 1, 1, -1, 1, 1, 1, -1, 1, 1, 1, 1, -1, 1, 1, 1, -1, 1, 1, 1, 1, -1, 1, 1, 1, -1, 1, 1, 1, 1, -1, 1, 1, 1, -1, 1, 1, 1, 1, -1, 1, 1, 1, 1, 1, 1, 1, 1, -1, 1, 1]'),\n",
    "    ('3', '[1, 1, 1, -1, 1, 1, 1, 1, 1, 1, 1, 1, -1, 1, 1, 1, 1, 1, 1, 1, 1, -1, 1, 1, -1, 1, 1, 1, 1, 1, -1, 1, 1, -1, 1, 1, 1, 1, 1, -1, 1, 1, -1, 1, 1, 1, 1, 1, 1, 1, 1, -1, 1, 1, 1, 1, 1, 1, 1, 1, -1, 1, 1, 1]'),\n",
    "    ('4', '[1, 1, 1, 1, -1, 1, 1, 1, 1, 1, 1, 1, 1, -1, 1, 1, 1, 1, 1, 1, 1, 1, -1, 1, 1, 1, 1, 1, 1, 1, 1, -1, -1, 1, 1, 1, 1, 1, 1, 1, 1, -1, 1, 1, 1, 1, 1, 1, 1, 1, -1, 1, 1, 1, 1, 1, 1, 1, 1, -1, 1, 1, 1, 1]'),\n",
    "    ('5', '[1, 1, 1, 1, 1, -1, 1, 1, 1, 1, 1, 1, 1, 1, -1, 1, 1, 1, 1, 1, 1, 1, 1, -1, 1, 1, 1, 1, 1, 1, 1, 1, 1, 1, 1, 1, 1, 1, 1, 1, -1, 1, 1, 1, 1, 1, 1, 1, 1, -1, 1, 1, 1, 1, 1, 1, 1, 1, -1, 1, 1, 1, 1, 1]'),\n",
    "    ('6', '[1, 1, 1, 1, 1, 1, -1, 1, 1, 1, 1, 1, 1, 1, 1, -1, 1, 1, 1, 1, 1, 1, 1, 1, 1, 1, 1, 1, 1, 1, 1, 1, 1, 1, 1, 1, 1, 1, 1, 1, 1, 1, 1, 1, 1, 1, 1, 1, -1, 1, 1, 1, 1, 1, 1, 1, 1, -1, 1, 1, 1, 1, 1, 1]'),\n",
    "    ('7', '[1, 1, 1, 1, 1, 1, 1, -1, 1, 1, 1, 1, 1, 1, 1, 1, 1, 1, 1, 1, 1, 1, 1, 1, 1, 1, 1, 1, 1, 1, 1, 1, 1, 1, 1, 1, 1, 1, 1, 1, 1, 1, 1, 1, 1, 1, 1, 1, 1, 1, 1, 1, 1, 1, 1, 1, -1, 1, 1, 1, 1, 1, 1, 1]')\n",
    "]\n",
    "\n",
    "# This will run the public test cases locally\n",
    "for i, (input_, expected_output) in enumerate(test_cases):\n",
    "    print(f\"Running test case {i} with input '{input_}'...\")\n",
    "\n",
    "    try:\n",
    "        output = run(input_)\n",
    "\n",
    "    except Exception as exc:\n",
    "        print(f\"Runtime Error. {exc}\")\n",
    "\n",
    "    else:\n",
    "        if message := check(output, expected_output):\n",
    "            print(f\"Wrong Answer. Have: '{output}'. Want: '{expected_output}'.\")\n",
    "\n",
    "        else:\n",
    "            print(\"Correct!\")"
   ]
  }
 ],
 "metadata": {
  "kernelspec": {
   "display_name": "venv",
   "language": "python",
   "name": "python3"
  },
  "language_info": {
   "codemirror_mode": {
    "name": "ipython",
    "version": 3
   },
   "file_extension": ".py",
   "mimetype": "text/x-python",
   "name": "python",
   "nbconvert_exporter": "python",
   "pygments_lexer": "ipython3",
   "version": "3.12.0"
  }
 },
 "nbformat": 4,
 "nbformat_minor": 2
}
