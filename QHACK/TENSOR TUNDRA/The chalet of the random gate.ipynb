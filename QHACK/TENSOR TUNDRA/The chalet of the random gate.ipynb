{
 "cells": [
  {
   "cell_type": "code",
   "execution_count": 33,
   "metadata": {},
   "outputs": [],
   "source": [
    "import json\n",
    "import pennylane as qml\n",
    "import pennylane.numpy as np"
   ]
  },
  {
   "cell_type": "code",
   "execution_count": 34,
   "metadata": {},
   "outputs": [],
   "source": [
    "# Define your device\n",
    "\n",
    "dev = qml.device(\"default.qubit\", wires=1)"
   ]
  },
  {
   "cell_type": "code",
   "execution_count": 35,
   "metadata": {},
   "outputs": [],
   "source": [
    "@qml.qnode(dev)\n",
    "def random_gate(p,q,r):\n",
    "\n",
    "    \"\"\"\n",
    "    Applies a Pauli X, Pauli Y, Pauli Z or does nothing at random.\n",
    "\n",
    "    Args:\n",
    "        - p (float): probability of applying Pauli X.\n",
    "        - q (float): probability of applying Pauli Y.\n",
    "        - r (float): probability of applying Pauli Z.\n",
    "\n",
    "    Returns:\n",
    "        - (np.tensor(float)): Measurement probabilities in the computational basis.\n",
    "\n",
    "    \"\"\"\n",
    "\n",
    "    # Apply the random gates\n",
    "    qml.Hadamard(wires=0)  # Initialize qubit in state |+>\n",
    "\n",
    "    # Apply Pauli X gate with probability p\n",
    "    if np.random.uniform() < p:\n",
    "        qml.PauliX(wires=0)\n",
    "\n",
    "    # Apply Pauli Y gate with probability q\n",
    "    elif np.random.uniform() < q:\n",
    "        qml.PauliY(wires=0)\n",
    "\n",
    "    # Apply Pauli Z gate with probability r\n",
    "    elif np.random.uniform() < r:\n",
    "        qml.PauliZ(wires=0)\n",
    "\n",
    "    # Apply Identity gate with probability 1 - p - q - r (do nothing)\n",
    "    elif np.random.uniform() < 1 - p - q - r:\n",
    "        qml.IdentityI(wires=0)\n",
    "        pass\n",
    "\n",
    "    return qml.probs(wires=[0])"
   ]
  },
  {
   "cell_type": "code",
   "execution_count": 36,
   "metadata": {},
   "outputs": [
    {
     "name": "stdout",
     "output_type": "stream",
     "text": [
      "Running test case 0 with input '[0.25, 0.25, 0.25]'...\n",
      "Wrong Answer. Have: '[0.4999999999999999, 0.4999999999999999]'. Want: '[0.5, 0.5]'.\n",
      "Running test case 1 with input '[0.125, 0.25, 0.2]'...\n",
      "Wrong Answer. Have: '[0.4999999999999999, 0.4999999999999999]'. Want: '[0.625, 0.375]'.\n"
     ]
    }
   ],
   "source": [
    "# These functions are responsible for testing the solution.\n",
    "\n",
    "\n",
    "def run(test_case_input: str) -> str:\n",
    "    ins = np.array(json.loads(test_case_input))\n",
    "    outs = random_gate(*ins).tolist()\n",
    "    return str(outs)\n",
    "\n",
    "\n",
    "def check(solution_output: str, expected_output: str) -> None:\n",
    "    solution_output = json.loads(solution_output)\n",
    "    expected_output = json.loads(expected_output)\n",
    "\n",
    "    assert np.allclose(solution_output, expected_output, rtol = 1e-4), \"Not the correct probabilities\"\n",
    "\n",
    "# These are the public test cases\n",
    "test_cases = [\n",
    "    ('[0.25, 0.25, 0.25]', '[0.5, 0.5]'),\n",
    "    ('[0.125, 0.25, 0.2]', '[0.625, 0.375]')\n",
    "]\n",
    "\n",
    "# This will run the public test cases locally\n",
    "for i, (input_, expected_output) in enumerate(test_cases):\n",
    "    print(f\"Running test case {i} with input '{input_}'...\")\n",
    "\n",
    "    # try:\n",
    "    output = run(input_)\n",
    "\n",
    "    # except Exception as exc:\n",
    "    #     print(f\"Runtime Error. {exc}\")\n",
    "\n",
    "    # else:\n",
    "    #     if message := check(output, expected_output):\n",
    "    print(f\"Wrong Answer. Have: '{output}'. Want: '{expected_output}'.\")\n",
    "\n",
    "        # else:\n",
    "        #     print(\"Correct!\")"
   ]
  },
  {
   "cell_type": "code",
   "execution_count": null,
   "metadata": {},
   "outputs": [],
   "source": []
  }
 ],
 "metadata": {
  "kernelspec": {
   "display_name": "Python 3",
   "language": "python",
   "name": "python3"
  },
  "language_info": {
   "codemirror_mode": {
    "name": "ipython",
    "version": 3
   },
   "file_extension": ".py",
   "mimetype": "text/x-python",
   "name": "python",
   "nbconvert_exporter": "python",
   "pygments_lexer": "ipython3",
   "version": "3.12.0"
  }
 },
 "nbformat": 4,
 "nbformat_minor": 2
}
