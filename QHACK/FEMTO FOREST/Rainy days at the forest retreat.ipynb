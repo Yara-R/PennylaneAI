{
 "cells": [
  {
   "cell_type": "code",
   "execution_count": 121,
   "metadata": {},
   "outputs": [],
   "source": [
    "import json\n",
    "import pennylane as qml\n",
    "import pennylane.numpy as np"
   ]
  },
  {
   "cell_type": "code",
   "execution_count": 122,
   "metadata": {},
   "outputs": [],
   "source": [
    "def U():\n",
    "    \"\"\"\n",
    "    Creates the gate that checks the parity of the number of forests.\n",
    "    It should not return anything, you simply need to add the gates.\n",
    "    \"\"\"\n",
    "\n",
    "    num_qubits = 8\n",
    "\n",
    "    # Controlled rotations to create the superposition of forest configurations\n",
    "    for i in range(num_qubits):\n",
    "        qml.Hadamard(wires=i)\n",
    "        qml.CRZ(np.pi/2, wires=[i, num_qubits])\n",
    "\n",
    "    # Quantum Fourier Transform (QFT)\n",
    "    qml.QFT(wires=list(range(num_qubits)))\n",
    "\n",
    "    # Measure the ancilla qubit to obtain the parity information\n",
    "    qml.CNOT(wires=[num_qubits - 1, num_qubits])"
   ]
  },
  {
   "cell_type": "code",
   "execution_count": 123,
   "metadata": {},
   "outputs": [
    {
     "name": "stdout",
     "output_type": "stream",
     "text": [
      "Running test case 0 with input '[1,0,1,1,0,1,1,1]'...\n",
      "Wrong Answer. Have: '0.0'. Want: '1'.\n",
      "Running test case 1 with input '[0,0,0,0,0,1,0,1]'...\n",
      "Wrong Answer. Have: '0.0'. Want: '0'.\n"
     ]
    }
   ],
   "source": [
    "# These functions are responsible for testing the solution.\n",
    "\n",
    "\n",
    "def run(test_case_input: str) -> str:\n",
    "\n",
    "    input = json.loads(test_case_input)\n",
    "    wires_input = [0,1,2,3,4,5,6,7]\n",
    "\n",
    "    dev = qml.device(\"default.qubit\", wires = 10, shots = 10)\n",
    "\n",
    "    @qml.qnode(dev)\n",
    "    def circuit():\n",
    "      qml.BasisEmbedding(input, wires = wires_input)\n",
    "\n",
    "      U()\n",
    "\n",
    "      return qml.probs(wires = 8)\n",
    "\n",
    "    return str(float(circuit()[1]))\n",
    "\n",
    "\n",
    "def check(have: str, want: str) -> None:\n",
    "\n",
    "    assert np.isclose(float(have), float(want)), \"Wrong answer!\"\n",
    "\n",
    "# These are the public test cases\n",
    "test_cases = [\n",
    "    ('[1,0,1,1,0,1,1,1]', '1'),\n",
    "    ('[0,0,0,0,0,1,0,1]', '0')\n",
    "]\n",
    "\n",
    "# This will run the public test cases locally\n",
    "for i, (input_, expected_output) in enumerate(test_cases):\n",
    "    print(f\"Running test case {i} with input '{input_}'...\")\n",
    "\n",
    "    try:\n",
    "        output = run(input_)\n",
    "\n",
    "    except Exception as exc:\n",
    "        print(f\"Runtime Error. {exc}\")\n",
    "\n",
    "    else:\n",
    "        # if message := check(output, expected_output):\n",
    "            print(f\"Wrong Answer. Have: '{output}'. Want: '{expected_output}'.\")\n",
    "\n",
    "        # else:\n",
    "        #     print(\"Correct!\")"
   ]
  }
 ],
 "metadata": {
  "kernelspec": {
   "display_name": "Python 3",
   "language": "python",
   "name": "python3"
  },
  "language_info": {
   "codemirror_mode": {
    "name": "ipython",
    "version": 3
   },
   "file_extension": ".py",
   "mimetype": "text/x-python",
   "name": "python",
   "nbconvert_exporter": "python",
   "pygments_lexer": "ipython3",
   "version": "3.12.0"
  }
 },
 "nbformat": 4,
 "nbformat_minor": 2
}
